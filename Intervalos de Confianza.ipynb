{
  "cells": [
    {
      "cell_type": "code",
      "execution_count": 1,
      "metadata": {
        "id": "wBTHhHfkzIvA"
      },
      "outputs": [],
      "source": [
        "import numpy as np\n",
        "from matplotlib import pyplot as plt\n",
        "import scipy.stats as sps\n",
        "from scipy.stats import gamma"
      ]
    },
    {
      "cell_type": "markdown",
      "metadata": {
        "id": "F-LH9WAu2NCI"
      },
      "source": [
        "##**Ejercicio 1**: Sean $X_1, \\dots, X_6$ variables aleatorias i.i.d con distribución $Exp(5)$. Generar $10000$ realizaciondes independientes de la variable aleatoria $Y$, donde $Y=X_1+\\cdots+X_6$.\n",
        "\n",
        "Comparar el histograma de densidad con ancho de banda $0.05$ con la función de densidad de una variable con distribución $\\Gamma(6,5)$.\n",
        "\n",
        "Qué conclusión podemos sacar?"
      ]
    },
    {
      "cell_type": "code",
      "execution_count": 2,
      "metadata": {
        "id": "SaZd3Geu5U9P"
      },
      "outputs": [],
      "source": [
        "from scipy.special import gamma"
      ]
    },
    {
      "cell_type": "code",
      "execution_count": 3,
      "metadata": {
        "id": "cK2lZ0vF_1vU"
      },
      "outputs": [],
      "source": [
        "# Densidad de una Gamma\n",
        "def pdfGamma(a, l, x):\n",
        "    return (l ** a) * (x ** (a - 1)) * np.exp(-l * x) / gamma(a) # Dedicí implementarlo, pero podría llamar a sps.gamma.pdf(x, a, scale=1/l)"
      ]
    },
    {
      "cell_type": "code",
      "execution_count": 4,
      "metadata": {
        "id": "YWFuOOjQ6Kud"
      },
      "outputs": [],
      "source": [
        "N     = 10000\n",
        "alpha = 6\n",
        "lam   = 5     # Lambda\n",
        "\n",
        "sample = np.sum(np.random.exponential(scale=1/lam, size=(alpha,N)), axis=0) # (ATENCION: no toma lambda de parámetro, sino la esperanza)"
      ]
    },
    {
      "cell_type": "code",
      "execution_count": 5,
      "metadata": {
        "id": "Uxi1Ec7Q-Pak"
      },
      "outputs": [
        {
          "data": {
            "image/png": "[encoded data removed]",
            "text/plain": [
              "<Figure size 640x480 with 1 Axes>"
            ]
          },
          "metadata": {},
          "output_type": "display_data"
        }
      ],
      "source": [
        "# Histograma de densidad\n",
        "bw = 0.05                                                                                     # Ancho de banda\n",
        "t  = np.linspace(min(sample), max(sample) + bw, int((max(sample) + bw - min(sample)) / 0.01)) # Discretizo la recta para graficar la densidad\n",
        "\n",
        "plt.plot(t, pdfGamma(alpha, lam, t), color='red', label='Densidad poblacional')\n",
        "plt.hist(sample, bins=np.arange(min(sample), max(sample) + bw, bw), density=True, label='Densidad empírica')\n",
        "\n",
        "plt.legend()\n",
        "plt.show()"
      ]
    },
    {
      "cell_type": "markdown",
      "metadata": {
        "id": "ixobthqUxFPv"
      },
      "source": [
        "##**Ejercicio 2**: Generar $100$ muestras de $15$ realizaciones cada una para variables aleatorias independientes con distribución Normal de parámetros $\\mu = 5$, $\\sigma^2=16$.\n",
        "\n",
        "Considerar los datos generados y calcular 100 intervalos de confianza del $95\\%$ para $\\mu$ asumiendo $\\sigma$ conocida.\n",
        "\n",
        "Graficar e indicar cuáles de los intervalos contienen a $\\mu$."
      ]
    },
    {
      "cell_type": "markdown",
      "metadata": {
        "id": "VWGQWi2UjyTq"
      },
      "source": [
        "Recordar que el intervalo de confianza para $\\mu$ a nivel $1-\\alpha\\%$ es:\n",
        "$$\\left(-z_{\\alpha/2}\\frac{\\sigma}{\\sqrt{N}}+\\bar{X},\\, z_{\\alpha/2}\\frac{\\sigma}{\\sqrt{N}}+\\bar{X}\\right).$$"
      ]
    },
    {
      "cell_type": "code",
      "execution_count": null,
      "metadata": {
        "id": "bQXAqaIty_MQ"
      },
      "outputs": [],
      "source": [
        "mu    = 5\n",
        "sigma = 4\n",
        "alpha = 0.05\n",
        "M     = 100\n",
        "N     = 15\n",
        "sup   = np.zeros(M)         # Acá vamos a guardar el extemo superior del intervalo para cada muestra\n",
        "inf   = np.zeros(M)         # Acá vamos a guardar el extemo inferior del intervalo para cada muestra\n",
        "\n",
        "norm = sps.norm(loc=0, scale=1)"
      ]
    },
    {
      "cell_type": "code",
      "execution_count": null,
      "metadata": {
        "id": "k-E1wIfVyTuq"
      },
      "outputs": [],
      "source": [
        "# Simulaciones\n",
        "for i in range(M):\n",
        "    sample = np.random.normal(loc=mu, scale=sigma, size=N)\n",
        "    mean   = np.mean(sample)\n",
        "    sup[i] = norm.ppf(1-alpha/2) * sigma / np.sqrt(N) + mean # Podría haber definido z = norm.ppf(1-alpha/2), o bien z = norm.isf(alpha/2)\n",
        "    inf[i] = norm.ppf(alpha/2) * sigma / np.sqrt(N) + mean   # y entonces haber usado -z en esta línea"
      ]
    },
    {
      "cell_type": "code",
      "execution_count": null,
      "metadata": {
        "id": "MA3S26AazDZv"
      },
      "outputs": [],
      "source": [
        "# Intervalos en función del número de la muestra\n",
        "plt.title(r'Intervalos de confianza para $\\mu$', fontsize = 20)\n",
        "plt.ylabel(r'$(a,b)$', fontsize = 15)\n",
        "plt.xlabel(r'$Muestra$',fontsize = 15)\n",
        "plt.axhline(y=mu, color='grey')         # Graficamos el valor de mu como referencia\n",
        "\n",
        "for i in range(M):\n",
        "    plt.plot((i, i), (inf[i], sup[i]), 'g-' if (mu >= inf[i] and mu <= sup[i]) else 'r-')\n",
        "    # El intervalo lo pintamos verde si contiene a mu, rojo en caso contrario\n",
        "\n",
        "plt.show()"
      ]
    },
    {
      "cell_type": "markdown",
      "metadata": {
        "id": "vIJ2QxHCCfu7"
      },
      "source": [
        "##**Ejercicio 3**: Repetir el ejercicio anterior, ahora sin suponer que se conoce el valor de $\\sigma$.\n",
        "\n",
        "Qué esperaría que pase si las muestras pasan a ser de tamaño $1000$? Comparar.\n",
        "\n"
      ]
    },
    {
      "cell_type": "markdown",
      "metadata": {
        "id": "zabHh9lGj1Bw"
      },
      "source": [
        "Recordar que el intervalo de confianza para $\\mu$ a nivel $1-\\alpha\\%$ es:\n",
        "$$\\left(-t_{\\alpha/2}\\frac{S}{\\sqrt{N}}+\\bar{X},\\, t_{\\alpha/2}\\frac{S}{\\sqrt{N}}+\\bar{X}\\right).$$"
      ]
    },
    {
      "cell_type": "code",
      "execution_count": null,
      "metadata": {
        "id": "CSqiZ_PLNje2"
      },
      "outputs": [],
      "source": [
        "mu    = 5\n",
        "sigma = 4\n",
        "alpha = 0.05\n",
        "M     = 100\n",
        "N     = 15\n",
        "sup   = np.zeros(M)         # Acá vamos a guardar el extemo superior del intervalo para cada muestra\n",
        "inf   = np.zeros(M)         # Acá vamos a guardar el extemo inferior del intervalo para cada muestra\n",
        "\n",
        "t = sps.t(df=N-1)"
      ]
    },
    {
      "cell_type": "code",
      "execution_count": null,
      "metadata": {
        "id": "tG-PXNekNje3"
      },
      "outputs": [],
      "source": [
        "# Simulaciones\n",
        "for i in range(M):\n",
        "    sample = np.random.normal(loc=mu, scale=sigma, size=N)\n",
        "    mean   = np.mean(sample)\n",
        "    s      = np.std(sample, ddof=1)\n",
        "    sup[i] = t.ppf(1-alpha/2) * s / np.sqrt(N) + mean\n",
        "    inf[i] = t.ppf(alpha/2) * s / np.sqrt(N) + mean"
      ]
    },
    {
      "cell_type": "code",
      "execution_count": null,
      "metadata": {
        "id": "TiAqFP6WNje3"
      },
      "outputs": [],
      "source": [
        "# Intervalos en función del número de la muestra\n",
        "plt.title(r'Intervalos de confianza para $\\mu$', fontsize = 20)\n",
        "plt.ylabel(r'$(a,b)$', fontsize = 15)\n",
        "plt.xlabel(r'$Muestra$',fontsize = 15)\n",
        "plt.axhline(y=mu, color='grey')         # Graficamos el valor de mu como referencia\n",
        "\n",
        "for i in range(M):\n",
        "    plt.plot((i, i), (inf[i], sup[i]), 'g-' if (mu >= inf[i] and mu <= sup[i]) else 'r-')\n",
        "    # El intervalo lo pintamos verde si contiene a mu, rojo en caso contrario\n",
        "\n",
        "plt.show()"
      ]
    },
    {
      "cell_type": "code",
      "execution_count": null,
      "metadata": {
        "id": "bTj4kDw_PUzJ"
      },
      "outputs": [],
      "source": [
        "N = 1000\n",
        "M = 10000\n",
        "\n",
        "contiene_exacto = 0      # Voy a contar cuántos de los intervalos con la distribución exacta contienen a mu\n",
        "contiene_aprox  = 0      # Voy a contar cuántos de los intervalos con la distribución aproximada contienen a mu\n",
        "\n",
        "t = sps.t(df=N-1)\n",
        "\n",
        "for _ in range(M):\n",
        "    sample = np.random.normal(loc=mu, scale=sigma, size=N)\n",
        "    mean   = np.mean(sample)\n",
        "    s      = np.std(sample, ddof=1)\n",
        "\n",
        "    sup_exacto = t.ppf(1-alpha/2) * s / np.sqrt(N) + mean\n",
        "    inf_exacto = t.ppf(alpha/2) * s / np.sqrt(N) + mean\n",
        "    if (mu >= inf_exacto and mu <= sup_exacto):\n",
        "      contiene_exacto += 1\n",
        "\n",
        "    sup_aprox = norm.ppf(1-alpha/2) * s / np.sqrt(N) + mean\n",
        "    inf_aprox = norm.ppf(alpha/2) * s / np.sqrt(N) + mean\n",
        "    if (mu >= inf_aprox and mu <= sup_aprox):\n",
        "      contiene_aprox += 1\n",
        "\n",
        "print(r'Usando la distribución exacta, el ', contiene_exacto / M, '% de los intervalos contienen a la media.')\n",
        "print(r'Usando la distribución aproximada, el ', contiene_aprox / M, '% de los intervalos contienen a la media.')"
      ]
    },
    {
      "cell_type": "markdown",
      "metadata": {
        "id": "45QYCaphCqTh"
      },
      "source": [
        "##**Ejercicio 4**: Generar $100$ muestras de $50$ realizaciones de variables aleatorias independientes con distribución $Be(p)$ con $p=.13$.\n",
        "\n",
        "Calcular un intervalo de confianza del $97\\%$ para $p$, usando solo $\\bar{x}$ como dato.\n",
        "\n",
        "Cuál debería ser el intervalo de confianza?\n",
        "\n",
        "Cuán grande debería tomar la muestra si quiero asegurarme, con $97\\%$ de confianza, que el error al estimar $p$ no sea mayor a $0.01$?"
      ]
    },
    {
      "cell_type": "code",
      "execution_count": null,
      "metadata": {
        "id": "pspBTV4hSG_l"
      },
      "outputs": [],
      "source": [
        "p     = .13\n",
        "N     = 50\n",
        "M     = 100\n",
        "alpha = .03\n",
        "sup   = np.zeros(M)         # Acá vamos a guardar el extemo superior del intervalo para cada muestra\n",
        "inf   = np.zeros(M)         # Acá vamos a guardar el extemo inferior del intervalo para cada muestra\n",
        "\n",
        "norm = sps.norm(loc=0, scale=1)"
      ]
    },
    {
      "cell_type": "code",
      "execution_count": null,
      "metadata": {
        "id": "VN8LOpqdSG_q"
      },
      "outputs": [],
      "source": [
        "# Simulaciones\n",
        "for i in range(M):\n",
        "    sample = np.random.binomial(N, p) # Podría haber llamado a sps.bernoulli.rvs(p, size = N)\n",
        "    mean   = sample / N\n",
        "    # Podríamos calcular S, incluso sin la muestra, usando el promedio (porque en este caso es fácil recuperar lo que nos interesa de la muestra)\n",
        "    s = (mean * ( 1 - mean )) ** 0.5\n",
        "    sup[i] = norm.ppf(1-alpha/2) * s / np.sqrt(N) + mean\n",
        "    inf[i] = norm.ppf(alpha/2) * s / np.sqrt(N) + mean\n",
        "    # Notar que esto no garantiza que inf >= 0 ni sup <= 1 (lo que sería razonable pedir)"
      ]
    },
    {
      "cell_type": "code",
      "execution_count": null,
      "metadata": {
        "id": "82fQi2ENSG_q"
      },
      "outputs": [],
      "source": [
        "# Intervalos en función del número de la muestra\n",
        "plt.title(r'Intervalos de confianza para $p$', fontsize = 20)\n",
        "plt.ylabel(r'$(a,b)$', fontsize = 15)\n",
        "plt.xlabel(r'$Muestra$',fontsize = 15)\n",
        "plt.axhline(y=p, color='grey')         # Graficamos el valor de p como referencia\n",
        "\n",
        "for i in range(M):\n",
        "    plt.plot((i, i), (inf[i], sup[i]), 'g-' if (p >= inf[i] and p <= sup[i]) else 'r-')\n",
        "    # El intervalo lo pintamos verde si contiene a p, rojo en caso contrario\n",
        "\n",
        "plt.show()"
      ]
    },
    {
      "cell_type": "markdown",
      "metadata": {
        "id": "OkrJwymZDKOa"
      },
      "source": [
        "##**Ejercicio 5**: Generar $100$ muestras de $100$ realizaciones de variables aleatorias independientes con distribución $Exp(\\lambda)$ para $\\lambda = 3$.\n",
        "\n",
        "* Considerar los datos generados y calcular un intervalo de confianza del $95\\%$ para $\\lambda$.  \n",
        "* Qué debería hacer si solo tengo $\\bar{x}$ como dato?\n",
        "* Hay algo que pueda intentar si en vez de $100$ realizaciones, tengo solo $10$?\n",
        "* Y si quiero que el intervalo sea unilateral?"
      ]
    },
    {
      "cell_type": "code",
      "execution_count": null,
      "metadata": {
        "id": "tpDhmn4BVtmo"
      },
      "outputs": [],
      "source": [
        "lam   = 3\n",
        "N     = 100\n",
        "M     = 100\n",
        "alpha = .05\n",
        "sup   = np.zeros(M)         # Acá vamos a guardar el extemo superior del intervalo para cada muestra\n",
        "inf   = np.zeros(M)         # Acá vamos a guardar el extemo inferior del intervalo para cada muestra\n",
        "\n",
        "norm = sps.norm(loc=0, scale=1)"
      ]
    },
    {
      "cell_type": "code",
      "execution_count": null,
      "metadata": {
        "id": "U9ApWyBHVtmu"
      },
      "outputs": [],
      "source": [
        "# Simulaciones\n",
        "for i in range(M):\n",
        "    sample = np.random.exponential(scale=1/lam, size=N)\n",
        "    mean   = np.mean(sample)\n",
        "    s      = mean # np.std(sample, ddof=1)\n",
        "    a      = norm.ppf(alpha/2) * s / np.sqrt(N) + mean\n",
        "    b      = norm.ppf(1-alpha/2) * s / np.sqrt(N) + mean\n",
        "    # Notar que esto no garantiza que a >= 0 (por más que yo sé que tiene sentido), y voy a asumir que pasa (no siempre es cierto!)\n",
        "    sup[i] = 1 / a\n",
        "    inf[i] = 1 / b"
      ]
    },
    {
      "cell_type": "code",
      "execution_count": null,
      "metadata": {
        "id": "cDORyxxbVtmu"
      },
      "outputs": [],
      "source": [
        "# Intervalos en función del número de la muestra\n",
        "plt.title(r'Intervalos de confianza para $\\lambda$', fontsize = 20)\n",
        "plt.ylabel(r'$(a,b)$', fontsize = 15)\n",
        "plt.xlabel(r'$Muestra$',fontsize = 15)\n",
        "plt.axhline(y=lam, color='grey')         # Graficamos el valor de lambda como referencia\n",
        "\n",
        "for i in range(M):\n",
        "    plt.plot((i, i), (inf[i], sup[i]), 'g-' if (lam >= inf[i] and lam <= sup[i]) else 'r-')\n",
        "    # El intervalo lo pintamos verde si contiene a lambda, rojo en caso contrario\n",
        "\n",
        "plt.show()"
      ]
    },
    {
      "cell_type": "code",
      "execution_count": null,
      "metadata": {
        "id": "fFTRHxWK081w"
      },
      "outputs": [],
      "source": [
        "N = 10\n",
        "for i in range(M):\n",
        "    sample = np.random.exponential(scale=1/lam, size=N)\n",
        "    sum    = np.sum(sample)\n",
        "    sup[i] = sps.gamma.isf(alpha/2, a=N, scale=1) / sum\n",
        "    inf[i] = sps.gamma.ppf(alpha/2, a=N, scale=1) / sum\n",
        "\n",
        "\n",
        "plt.title(r'Intervalos de confianza para $\\lambda$', fontsize = 20)\n",
        "plt.ylabel(r'$(a,b)$', fontsize = 15)\n",
        "plt.xlabel(r'$Muestra$',fontsize = 15)\n",
        "plt.axhline(y=lam, color='grey')         # Graficamos el valor de lambda como referencia\n",
        "\n",
        "for i in range(M):\n",
        "    plt.plot((i, i), (inf[i], sup[i]), 'g-' if (lam >= inf[i] and lam <= sup[i]) else 'r-')\n",
        "    # El intervalo lo pintamos verde si contiene a lambda, rojo en caso contrario\n",
        "\n",
        "plt.show()"
      ]
    },
    {
      "cell_type": "markdown",
      "metadata": {
        "id": "oZE3Wf7Tww7G"
      },
      "source": [
        "##**Ejercicio 6:** En las mismas condiciones que en el ejercicio 2, calcular 100 intervalos para $\\sigma^2$ con $95\\%$ de confianza.\n"
      ]
    },
    {
      "cell_type": "markdown",
      "metadata": {
        "id": "Ensym1baj3wQ"
      },
      "source": [
        "Recordar que el intervalo de confianza para $\\sigma^2$ a nivel $1-\\alpha\\%$ es:\n",
        "$$\\left(\\frac{(n-1)S^2}{\\chi^2_{\\alpha/2}},\\, \\frac{(n-1)S^2}{\\chi^2_{1-\\alpha/2}}\\right).$$"
      ]
    },
    {
      "cell_type": "code",
      "execution_count": null,
      "metadata": {
        "id": "LgaKqedg_unb"
      },
      "outputs": [],
      "source": [
        "mu    = 5\n",
        "sigma = 4\n",
        "alpha = 0.05\n",
        "M     = 100\n",
        "N     = 15\n",
        "sup   = np.zeros(M)         # Acá vamos a guardar el extemo superior del intervalo para cada muestra\n",
        "inf   = np.zeros(M)         # Acá vamos a guardar el extemo inferior del intervalo para cada muestra\n",
        "\n",
        "chi2 = sps.chi2(df=(N-1))"
      ]
    },
    {
      "cell_type": "code",
      "execution_count": null,
      "metadata": {
        "id": "3HX5PQ27_unb"
      },
      "outputs": [],
      "source": [
        "# Simulaciones\n",
        "for i in range(M):\n",
        "    sample = np.random.normal(loc=mu, scale=sigma, size=N)\n",
        "    mean   = np.mean(sample)\n",
        "    var    = np.var(sample, ddof=1)\n",
        "    sup[i] = (N - 1) * var / chi2.ppf(alpha/2)\n",
        "    inf[i] = (N - 1) * var / chi2.ppf(1-alpha/2)"
      ]
    },
    {
      "cell_type": "code",
      "execution_count": null,
      "metadata": {
        "id": "nz5BSPuq_unc"
      },
      "outputs": [],
      "source": [
        "# Intervalos en función del número de la muestra\n",
        "plt.title(r'Intervalos de confianza para $\\mu$', fontsize = 20)\n",
        "plt.ylabel(r'$(a,b)$', fontsize = 15)\n",
        "plt.xlabel(r'$Muestra$',fontsize = 15)\n",
        "plt.axhline(y=sigma**2, color='grey')         # Graficamos el valor de sigma^2 como referencia\n",
        "\n",
        "for i in range(M):\n",
        "    plt.plot((i, i), (inf[i], sup[i]), 'g-' if (sigma**2 >= inf[i] and sigma**2 <= sup[i]) else 'r-')\n",
        "    # El intervalo lo pintamos verde si contiene a sigma^2, rojo en caso contrario\n",
        "\n",
        "plt.show()"
      ]
    }
  ],
  "metadata": {
    "colab": {
      "provenance": []
    },
    "kernelspec": {
      "display_name": "Python 3",
      "name": "python3"
    },
    "language_info": {
      "codemirror_mode": {
        "name": "ipython",
        "version": 3
      },
      "file_extension": ".py",
      "mimetype": "text/x-python",
      "name": "python",
      "nbconvert_exporter": "python",
      "pygments_lexer": "ipython3",
      "version": "3.10.12"
    }
  },
  "nbformat": 4,
  "nbformat_minor": 0
}
