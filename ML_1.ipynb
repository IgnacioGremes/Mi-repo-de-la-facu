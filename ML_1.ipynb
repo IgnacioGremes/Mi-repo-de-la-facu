{
  "cells": [
    {
      "cell_type": "markdown",
      "metadata": {
        "id": "nd6TNltdIxno"
      },
      "source": [
        "# Machine Learning -1 \"Regresión\"\n",
        "Ejemplo de: https://scikit-learn.org/stable/auto_examples/linear_model/plot_ols.html"
      ]
    },
    {
      "cell_type": "code",
      "execution_count": null,
      "metadata": {
        "id": "C0Ptihl8Ixnq"
      },
      "outputs": [],
      "source": [
        "# Code source: Jaques Grobler\n",
        "# License: BSD 3 clause"
      ]
    },
    {
      "cell_type": "markdown",
      "metadata": {
        "id": "zt4NBdjCIxnr"
      },
      "source": [
        "## Importamos las librerías necesarias"
      ]
    },
    {
      "cell_type": "code",
      "execution_count": 1,
      "metadata": {
        "id": "M32Kynb8Ixnr"
      },
      "outputs": [],
      "source": [
        "\n",
        "import matplotlib.pyplot as plt\n",
        "import numpy as np\n",
        "\n",
        "from sklearn import datasets, linear_model\n",
        "from sklearn.metrics import mean_squared_error, r2_score\n",
        "from sklearn.model_selection import train_test_split"
      ]
    },
    {
      "cell_type": "markdown",
      "metadata": {
        "id": "WWiE9k6oIxns"
      },
      "source": [
        "## Cargamos los datos y los partimos en entrenamiento y testeo\n",
        "\n",
        "Los datos tinene esta forma:\n",
        "X:\n",
        "0. age age in years\n",
        "1. sex\n",
        "2. bmi body mass index\n",
        "3. bp average blood pressure\n",
        "4. s1 tc, total serum cholesterol\n",
        "5. s2 ldl, low-density lipoproteins\n",
        "6. s3 hdl, high-density lipoproteins\n",
        "7. s4 tch, total cholesterol / HDL\n",
        "8. s5 ltg, possibly log of serum triglycerides level\n",
        "9. s6 glu, blood sugar level\n",
        "y:\n",
        "- a quantitative measure of disease progression one year after baseline"
      ]
    },
    {
      "cell_type": "code",
      "execution_count": null,
      "metadata": {
        "id": "VR00cXYaIxnt"
      },
      "outputs": [],
      "source": [
        "# Load the diabetes dataset\n",
        "diabetes_X, diabetes_y = datasets.load_diabetes(return_X_y=True)\n",
        "print(f\"diabetes_X.shape: {diabetes_X.shape}\")\n",
        "print(f\"diabetes_y.shape: {diabetes_y.shape}\")\n",
        "\n",
        "# dataset description\n",
        "labels = [\"Edad\", \"sex\", \"bmi\", \"Presión\", \"Colesterol Total\", \"Colesterol Malo\", \"Colesterol Bueno\", \"tch\", \"ltg\", \"glu\"]\n",
        "feature = 3\n",
        "print(f\"Vamos a predecir usando la característica {labels[feature]}\")\n",
        "\n",
        "# Use only one feature\n",
        "diabetes_X = diabetes_X[:, np.newaxis, feature]\n",
        "\n",
        "# Split the data into training/testing sets\n",
        "diabetes_X_train, diabetes_X_test, diabetes_y_train, diabetes_y_test = train_test_split(\n",
        "    diabetes_X, diabetes_y, test_size=0.2, random_state=42)"
      ]
    },
    {
      "cell_type": "markdown",
      "metadata": {
        "id": "YjcsQSy4Ixnt"
      },
      "source": [
        "## Creamos el modelo de regresión lineal y lo entrenamos"
      ]
    },
    {
      "cell_type": "code",
      "execution_count": null,
      "metadata": {
        "id": "DUcvtkaQIxnu"
      },
      "outputs": [],
      "source": [
        "\n",
        "# Create linear regression object\n",
        "regr = linear_model.LinearRegression()\n",
        "\n",
        "# Train the model using the training sets\n",
        "regr.fit(diabetes_X_train, diabetes_y_train)\n"
      ]
    },
    {
      "cell_type": "markdown",
      "metadata": {
        "id": "L3WiN6nyIxnu"
      },
      "source": [
        "## predecimos los valores de testeo y graficamos los resultados"
      ]
    },
    {
      "cell_type": "code",
      "execution_count": null,
      "metadata": {
        "id": "J8YO0Qr1Ixnv"
      },
      "outputs": [],
      "source": [
        "\n",
        "# Make predictions using the testing set\n",
        "diabetes_y_pred = regr.predict(diabetes_X_test)\n",
        "\n",
        "# The coefficients\n",
        "print(\"Coefficients: \\n\", regr.coef_)\n",
        "# The mean squared error\n",
        "print(\"Mean squared error: %.2f\" % mean_squared_error(diabetes_y_test, diabetes_y_pred))\n",
        "# The coefficient of determination: 1 is perfect prediction\n",
        "print(\"Coefficient of determination: %.2f\" % r2_score(diabetes_y_test, diabetes_y_pred))\n",
        "\n",
        "# Plot outputs\n",
        "plt.scatter(diabetes_X_test, diabetes_y_test)\n",
        "plt.plot(diabetes_X_test, diabetes_y_pred, color=\"orange\")\n",
        "\n",
        "plt.xticks(())\n",
        "plt.yticks(())\n",
        "\n",
        "plt.xlabel(labels[feature])\n",
        "plt.ylabel(\"Progresión de la enfermedad\")\n",
        "\n",
        "plt.show()"
      ]
    }
  ],
  "metadata": {
    "colab": {
      "provenance": []
    },
    "kernelspec": {
      "display_name": "Python 3",
      "language": "python",
      "name": "python3"
    },
    "language_info": {
      "codemirror_mode": {
        "name": "ipython",
        "version": 3
      },
      "file_extension": ".py",
      "mimetype": "text/x-python",
      "name": "python",
      "nbconvert_exporter": "python",
      "pygments_lexer": "ipython3",
      "version": "3.10.12"
    }
  },
  "nbformat": 4,
  "nbformat_minor": 0
}
