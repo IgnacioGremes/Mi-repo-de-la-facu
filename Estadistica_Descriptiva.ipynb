{
  "cells": [
    {
      "cell_type": "code",
      "execution_count": null,
      "metadata": {
        "id": "qwPkeXoq0X5A"
      },
      "outputs": [
        {
          "ename": "",
          "evalue": "",
          "output_type": "error",
          "traceback": [
            "\u001b[1;31mFailed to start the Kernel. \n",
            "\u001b[1;31mAssertionError. \n",
            "\u001b[1;31mView Jupyter <a href='command:jupyter.viewOutput'>log</a> for further details."
          ]
        }
      ],
      "source": [
        "import numpy as np\n",
        "from matplotlib import pyplot as plt\n",
        "import scipy.stats as sps"
      ]
    },
    {
      "cell_type": "markdown",
      "metadata": {
        "id": "wzBlGfDlvWLM"
      },
      "source": [
        "**Ejercicio:** Simular $100$ tiradas de una dado de $20$ caras para obtener una muestra $x_1, \\dots , x_{100}$.\n",
        "\n",
        "* **TAREA:** Acotar la probabilidad de que cada resultado posible esté representado en la muestra.\n",
        "    * Sugerencia: recordar que $P(A\\cup B) \\leq P(A)+P(B).$\n",
        "\n",
        "* Calcular la media, mediana, varianza y desvío estándar muestral.\n",
        "\n",
        "* Encontrar (e implementar) las funciones de probabiliad y distribución acumulada empíricas. Graficar la acumulada empírica."
      ]
    },
    {
      "cell_type": "code",
      "execution_count": 3,
      "metadata": {
        "id": "fWaxDkFkGNrN"
      },
      "outputs": [],
      "source": [
        "np.random.seed(2023) # Esto me deja obtener siempre los mismos resultados || 2024 no funciona como yo quiero :("
      ]
    },
    {
      "cell_type": "code",
      "execution_count": 4,
      "metadata": {
        "id": "Neyn_ZZlFWMP"
      },
      "outputs": [],
      "source": [
        "sample = np.random.randint(low=1, high=21, size=100)"
      ]
    },
    {
      "cell_type": "code",
      "execution_count": 5,
      "metadata": {
        "id": "rWdA4M-n2tCQ"
      },
      "outputs": [
        {
          "name": "stdout",
          "output_type": "stream",
          "text": [
            "[ 1  1  1  2  2  2  2  2  3  3  3  3  4  4  4  4  5  5  5  5  5  5  6  6\n",
            "  6  6  6  6  6  7  7  7  7  7  7  8  8  8  8  8  8  8  8  9  9  9  9  9\n",
            "  9  9  9 11 11 12 12 12 13 14 14 14 14 14 15 15 15 15 15 16 16 16 16 16\n",
            " 16 16 16 16 16 16 16 17 17 17 17 18 18 18 18 18 18 18 18 19 19 19 20 20\n",
            " 20 20 20 20]\n"
          ]
        }
      ],
      "source": [
        "sample.sort()\n",
        "print(sample)"
      ]
    },
    {
      "cell_type": "code",
      "execution_count": 6,
      "metadata": {
        "id": "cTgiKvyzl67k"
      },
      "outputs": [
        {
          "name": "stdout",
          "output_type": "stream",
          "text": [
            "media = 10.88 , mediana = 9.0 , desvío = 5.8539 , varianza = 34.2683\n"
          ]
        }
      ],
      "source": [
        "mean      = np.mean(sample)\n",
        "median    = np.median(sample)\n",
        "variance  = np.var(sample, ddof=1) # ddof=1 está para dividir por n-1\n",
        "deviation = np.std(sample, ddof=1)\n",
        "\n",
        "print('media =', mean.round(4), ', mediana =', median.round(4), ', desvío =', deviation.round(4), ', varianza =', variance.round(4))"
      ]
    },
    {
      "cell_type": "code",
      "execution_count": 7,
      "metadata": {
        "id": "ceL-EJDRz_-W"
      },
      "outputs": [],
      "source": [
        "# Función de probabilidad puntual empírica\n",
        "def epdf(sample, x):\n",
        "  return sum(x_i == x for x_i in sample)/len(sample)\n",
        "\n",
        "# Función de probabilidad acumulada empírica\n",
        "def ecdf(sample, x):\n",
        "  return sum(x_i <= x for x_i in sample)/len(sample)"
      ]
    },
    {
      "cell_type": "code",
      "execution_count": 8,
      "metadata": {
        "id": "V0aICdWk1Iq_"
      },
      "outputs": [
        {
          "data": {
            "image/png": "[encoded data removed]",
            "text/plain": [
              "<Figure size 640x480 with 1 Axes>"
            ]
          },
          "metadata": {},
          "output_type": "display_data"
        }
      ],
      "source": [
        "x = np.linspace(-2, 22, 1000) # Voy a graficar en el intervalo [-2,22] (y lo discretizo)\n",
        "\n",
        "plt.xlabel(r'$x$', fontsize = 15)\n",
        "plt.ylabel(r'$F_n(x)$', fontsize = 15)\n",
        "plt.plot(x, ecdf(sample, x))\n",
        "\n",
        "plt.show()"
      ]
    },
    {
      "cell_type": "markdown",
      "metadata": {
        "id": "sXu5RNKl3HuE"
      },
      "source": [
        "**TAREA:** En base a la distribución empírica de la muestra anterior, generar una nueva muestra $x^*_1,\\dots, x^*_{20}$.\n",
        "\n",
        "* Cuál es la probabilidad de obtener al menos un $10$?\n",
        "\n",
        "* Calcular la probabilidad de que el máximo de esta muestra sea $20$."
      ]
    },
    {
      "cell_type": "code",
      "execution_count": 9,
      "metadata": {
        "id": "aefLrWbhNnZU"
      },
      "outputs": [
        {
          "name": "stdout",
          "output_type": "stream",
          "text": [
            "[ 1  1  2  2  4  5  5  6  8  8  9  9 13 15 16 16 16 16 16 20]\n"
          ]
        }
      ],
      "source": [
        "new_sample = np.random.choice(sample, 20) # Con esto puedo simular una nueva muestra. Por default se hace con reemplazo\n",
        "new_sample.sort()\n",
        "print(new_sample)"
      ]
    },
    {
      "cell_type": "markdown",
      "metadata": {
        "id": "B1sLJWIM0kY_"
      },
      "source": [
        "## Correr está línea para generar una muestra (libre de spoilers)"
      ]
    },
    {
      "cell_type": "code",
      "execution_count": 10,
      "metadata": {
        "id": "AXaTptt6lbo6"
      },
      "outputs": [],
      "source": [
        "lam = 1 / 10\n",
        "mu  = 1 / lam\n",
        "N   = 1000000\n",
        "\n",
        "sample = np.random.exponential(mu, size=N) # En la documentación vemos que el parámetro que hay que pasar es la esperanza y no el lambda (triste, lo sé)"
      ]
    },
    {
      "cell_type": "markdown",
      "metadata": {
        "id": "FuMGwubth5nf"
      },
      "source": [
        "## **Ejercicio:** La muestra generada se encuentra en una variable llamada 'sample'.\n",
        "\n",
        "* Realizar un histograma de densidad con ancho de banda $5$ para las primeras $100$ observaciones. Comparar con las próximas $100$ observaciones Ver qué ocurre a medida que cambia la cantidad de intervalos usada.\n",
        "\n",
        "* Qué distribución parecen tener los datos? Para distintos valores de $M$, comparar la función de densidad poblacional con el histograma de densidad usando las primeras $M$ observaciones."
      ]
    },
    {
      "cell_type": "code",
      "execution_count": 11,
      "metadata": {
        "id": "6Y4gHk49hF8p"
      },
      "outputs": [
        {
          "data": {
            "image/png": "[encoded data removed]",
            "text/plain": [
              "<Figure size 640x480 with 1 Axes>"
            ]
          },
          "metadata": {},
          "output_type": "display_data"
        }
      ],
      "source": [
        "bw = 5                           # Ancho de banda\n",
        "small_sample_1 = sample[0:100]   # Me quedo con los primeros valores\n",
        "small_sample_2 = sample[100:200] # Los próximos 100\n",
        "\n",
        "max = np.max([np.max(small_sample_1), np.max(small_sample_2)]) # Es razonable usar los mismos intervalos para ambas muestras\n",
        "min = np.min([np.min(small_sample_1), np.min(small_sample_2)])\n",
        "\n",
        "plt.hist(small_sample_1, bins=np.arange(min, max + bw, bw), density=True, label='Muestra 1', alpha=.5)\n",
        "plt.hist(small_sample_2, bins=np.arange(min, max + bw, bw), density= True, label='Muestra 2', alpha =.5)\n",
        "plt.legend()\n",
        "plt.show()"
      ]
    },
    {
      "cell_type": "code",
      "execution_count": 12,
      "metadata": {
        "id": "we4viJ8y4D5m"
      },
      "outputs": [
        {
          "ename": "TypeError",
          "evalue": "'numpy.float64' object is not callable",
          "output_type": "error",
          "traceback": [
            "\u001b[0;31m---------------------------------------------------------------------------\u001b[0m",
            "\u001b[0;31mTypeError\u001b[0m                                 Traceback (most recent call last)",
            "Cell \u001b[0;32mIn[12], line 1\u001b[0m\n\u001b[0;32m----> 1\u001b[0m bins \u001b[38;5;241m=\u001b[39m np\u001b[38;5;241m.\u001b[39mlinspace(\u001b[38;5;28;43mmin\u001b[39;49m\u001b[43m(\u001b[49m\u001b[43msample\u001b[49m\u001b[43m)\u001b[49m, \u001b[38;5;28mmax\u001b[39m(sample) \u001b[38;5;241m+\u001b[39m bw, \u001b[38;5;241m10\u001b[39m\u001b[38;5;241m+\u001b[39m\u001b[38;5;241m1\u001b[39m)\n\u001b[1;32m      2\u001b[0m plt\u001b[38;5;241m.\u001b[39mhist(small_sample_1, bins\u001b[38;5;241m=\u001b[39mbins, density\u001b[38;5;241m=\u001b[39m\u001b[38;5;28;01mTrue\u001b[39;00m, label\u001b[38;5;241m=\u001b[39m\u001b[38;5;124m'\u001b[39m\u001b[38;5;124mMuestra 1\u001b[39m\u001b[38;5;124m'\u001b[39m, alpha\u001b[38;5;241m=\u001b[39m\u001b[38;5;241m.5\u001b[39m)\n\u001b[1;32m      3\u001b[0m plt\u001b[38;5;241m.\u001b[39mhist(small_sample_2, bins\u001b[38;5;241m=\u001b[39mbins, density\u001b[38;5;241m=\u001b[39m\u001b[38;5;28;01mTrue\u001b[39;00m, label\u001b[38;5;241m=\u001b[39m\u001b[38;5;124m'\u001b[39m\u001b[38;5;124mMuestra 2\u001b[39m\u001b[38;5;124m'\u001b[39m, alpha \u001b[38;5;241m=\u001b[39m\u001b[38;5;241m.5\u001b[39m)\n",
            "\u001b[0;31mTypeError\u001b[0m: 'numpy.float64' object is not callable"
          ]
        }
      ],
      "source": [
        "bins = np.linspace(min(sample), max(sample) + bw, 10+1)\n",
        "plt.hist(small_sample_1, bins=bins, density=True, label='Muestra 1', alpha=.5)\n",
        "plt.hist(small_sample_2, bins=bins, density=True, label='Muestra 2', alpha =.5)\n",
        "plt.legend()\n",
        "plt.show()"
      ]
    },
    {
      "cell_type": "code",
      "execution_count": 13,
      "metadata": {
        "id": "YTF2KTErhGWQ"
      },
      "outputs": [
        {
          "ename": "TypeError",
          "evalue": "'numpy.float64' object is not callable",
          "output_type": "error",
          "traceback": [
            "\u001b[0;31m---------------------------------------------------------------------------\u001b[0m",
            "\u001b[0;31mTypeError\u001b[0m                                 Traceback (most recent call last)",
            "Cell \u001b[0;32mIn[13], line 3\u001b[0m\n\u001b[1;32m      1\u001b[0m M \u001b[38;5;241m=\u001b[39m \u001b[38;5;241m100\u001b[39m \u001b[38;5;66;03m# Voy a incluir solamente los primeros M datos\u001b[39;00m\n\u001b[0;32m----> 3\u001b[0m t  \u001b[38;5;241m=\u001b[39m np\u001b[38;5;241m.\u001b[39mlinspace(\u001b[38;5;241m0\u001b[39m, \u001b[38;5;28;43mmax\u001b[39;49m\u001b[43m(\u001b[49m\u001b[43msample\u001b[49m\u001b[43m)\u001b[49m, \u001b[38;5;28mint\u001b[39m((\u001b[38;5;28mmax\u001b[39m(sample) \u001b[38;5;241m-\u001b[39m \u001b[38;5;28mmin\u001b[39m(sample)) \u001b[38;5;241m/\u001b[39m \u001b[38;5;241m0.01\u001b[39m)) \u001b[38;5;66;03m# Discretizamos la recta para graficar la densidad\u001b[39;00m\n\u001b[1;32m      5\u001b[0m \u001b[38;5;66;03m# Densidad de una Exponencial\u001b[39;00m\n\u001b[1;32m      6\u001b[0m \u001b[38;5;28;01mdef\u001b[39;00m \u001b[38;5;21mpdfExp\u001b[39m(lam, x):\n",
            "\u001b[0;31mTypeError\u001b[0m: 'numpy.float64' object is not callable"
          ]
        }
      ],
      "source": [
        "M = 100 # Voy a incluir solamente los primeros M datos\n",
        "\n",
        "t  = np.linspace(0, max(sample), int((max(sample) - min(sample)) / 0.01)) # Discretizamos la recta para graficar la densidad\n",
        "\n",
        "# Densidad de una Exponencial\n",
        "def pdfExp(lam, x):\n",
        "    return lam * np.exp(-lam * x)  # Dedicí implementarlo, pero podría llamar a scipy.stats.expon.pdf(x, loc=0, scale=1/lam)\n",
        "\n",
        "plt.plot(t, pdfExp(lam, t), color='red', label='Densidad poblacional')\n",
        "plt.hist(sample[0:M], bins=int(np.sqrt(M))+1 , density=True, label='Densidad empírica')\n",
        "\n",
        "plt.legend()\n",
        "plt.show()"
      ]
    }
  ],
  "metadata": {
    "colab": {
      "provenance": []
    },
    "kernelspec": {
      "display_name": "Python 3",
      "name": "python3"
    },
    "language_info": {
      "codemirror_mode": {
        "name": "ipython",
        "version": 3
      },
      "file_extension": ".py",
      "mimetype": "text/x-python",
      "name": "python",
      "nbconvert_exporter": "python",
      "pygments_lexer": "ipython3",
      "version": "3.10.12"
    }
  },
  "nbformat": 4,
  "nbformat_minor": 0
}
