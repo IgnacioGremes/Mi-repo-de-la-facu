{
 "cells": [
  {
   "cell_type": "code",
   "execution_count": 42,
   "id": "7634e20a",
   "metadata": {},
   "outputs": [],
   "source": [
    "import matplotlib.pyplot as plt\n",
    "import numpy as np\n",
    "import seaborn as sn\n",
    "\n",
    "from src.data_splitting import *"
   ]
  },
  {
   "cell_type": "code",
   "execution_count": 110,
   "id": "ece29b1f",
   "metadata": {},
   "outputs": [
    {
     "data": {
      "image/png": "[encoded data removed]",
      "text/plain": [
       "<Figure size 640x480 with 1 Axes>"
      ]
     },
     "metadata": {},
     "output_type": "display_data"
    },
    {
     "data": {
      "image/png": "[encoded data removed]",
      "text/plain": [
       "<Figure size 640x480 with 1 Axes>"
      ]
     },
     "metadata": {},
     "output_type": "display_data"
    },
    {
     "data": {
      "image/png": "[encoded data removed]",
      "text/plain": [
       "<Figure size 640x480 with 1 Axes>"
      ]
     },
     "metadata": {},
     "output_type": "display_data"
    },
    {
     "name": "stdout",
     "output_type": "stream",
     "text": [
      "(5000, 784)\n",
      "[[  0.  53.   8.   0.   0.   0.   0.   0.   0.   0.   0.   0.   0.   0.\n",
      "    0.   0.   0.   0.   0.   0.   0.   0.   0.   0.   0.   0.   0.   0.]\n",
      " [  0.  33. 154.  20.   0.   0.   0.   0.   0.   0.   0.   0.   0.   0.\n",
      "    0.   0.   0.   0.   0.   0.   0.   0.   0.   0.   0.   0.   0.   0.]\n",
      " [  0.   0. 113. 211.  98. 114. 151. 146. 120. 105.  82.  24.   0.   0.\n",
      "    0.   0.   0.   0.   0.   0.   0.   0.   0.   0.   0.   0.   0.   0.]\n",
      " [  0.   0.   4. 162. 253. 255. 255. 255. 255. 255. 255. 232.  24.   0.\n",
      "    0.   0.   0.   0.   0.   0.   0.   0.   0.   0.   0.   0.   0.   0.]\n",
      " [  0.   0.   0.  32. 219. 253. 255. 255. 255. 255. 255. 249.  36.   0.\n",
      "    0.   0.   0.   0.   0.   0.   0.   0.   0.   0.   0.   0.   0.   0.]\n",
      " [  0.   0.   0.   0.  64. 221. 252. 255. 255. 255. 255. 240.  13.   0.\n",
      "    0.   0.   0.   0.   0.   0.   0.   0.   0.   0.   0.   0.   0.   0.]\n",
      " [  0.   0.   0.   0.   0.  85. 239. 255. 255. 255. 255. 242.  23.   0.\n",
      "    0.   6.  22.  56.  82.  72.  46.   9.   0.   0.   0.   0.   0.   0.]\n",
      " [  0.   0.   0.   0.   0.   0.  38. 199. 255. 255. 255. 255. 130.  48.\n",
      "  149. 191. 162. 122. 108. 103. 112. 123. 148.  42.   0.   0.   0.   0.]\n",
      " [  0.   0.   0.   0.   0.   0.   0.  31. 250. 255. 255. 255. 238. 198.\n",
      "   83.   6.   0.   0.   0.   0.   0.   0.  24. 144. 112.   2.   0.   0.]\n",
      " [  0.   0.   0.   0.   0.   0.   0.   5. 246. 255. 255. 252. 122.   8.\n",
      "    0.   0.   0.   0.   0.   0.   0.   0.   0.   3. 143. 105.   0.   0.]\n",
      " [  0.   0.   0.   0.   0.   0.   0.   1. 245. 255. 255. 113.   0.   0.\n",
      "    0.   0.   0.   0.   0.   0.   0.   0.   0.   0.  15. 212.  34.   0.]\n",
      " [  0.   0.   0.   0.   0.   0.   0.   1. 245. 255. 253.  37.   0.   0.\n",
      "    0.   0.   0.   0.   0.   0.   0.   0.   0.   0.   0. 154. 107.   0.]\n",
      " [  0.   0.   0.   0.   0.   0.   0.  55. 252. 255. 191.   4.   0.   0.\n",
      "    0.   0.   0.   0.   0.   0.   0.   0.   0.   0.   0. 107. 151.   0.]\n",
      " [  0.   0.   0.   0.   0.   0.  10. 200. 255. 255. 103.   0.   0.   0.\n",
      "    0.   0.   0.   0.   0.   0.   0.   0.   0.   0.   0. 109. 156.   0.]\n",
      " [  0.   0.   0.   0.   0.   1. 141. 255. 255. 255.  65.   0.   0.   0.\n",
      "    0.   0.   0.   0.   0.   0.   0.   0.   0.   0.   0. 145. 122.   0.]\n",
      " [  0.   0.   0.   0.   0. 126. 252. 255. 255. 252.  33.   0.   0.   0.\n",
      "    0.   0.   0.   0.   0.   0.   0.   0.   0.   0.   8. 223.  49.   0.]\n",
      " [  0.   0.   0.  46. 185. 252. 255. 255. 255. 251.  17.   0.   0.   0.\n",
      "    0.   0.   0.   0.   0.   0.   0.   0.   0.   0.  87. 180.   2.   0.]\n",
      " [  0.   0.   3. 187. 255. 255. 255. 255. 255. 241.   1.   0.   0.   0.\n",
      "    0.   0.   0.   0.   0.   0.   0.   0.   0.  10. 209.  61.   0.   0.]\n",
      " [  0.   0. 125. 254. 255. 255. 255. 255. 255. 235.   0.   0.   0.   0.\n",
      "    0.   0.   0.   0.   0.   0.   0.   0.   0. 144. 149.   0.   0.   0.]\n",
      " [  0.   0. 175. 255. 255. 255. 243. 255. 255. 219.   0.   0.   0.   0.\n",
      "    0.   0.   0.   0.   0.   0.   0.   0.  82. 223.  26.   0.   0.   0.]\n",
      " [  0.   8. 229. 255. 251. 131.  69. 255. 255. 208.   0.   0.   0.   0.\n",
      "    0.   0.   0.   0.   0.   0.   0.  56. 234.  52.   0.   0.   0.   0.]\n",
      " [  0.   3. 152. 156.  53.   1.  35. 255. 255. 190.   0.   0.   0.   0.\n",
      "    0.   0.   0.   0.   0.   0.  53. 230. 107.   0.   0.   0.   0.   0.]\n",
      " [  0.   0.   0.   0.   0.   0.  34. 255. 255. 177.   0.   0.   0.   0.\n",
      "    0.   0.   0.   0.   0.  52. 232. 103.   2.   0.   0.   0.   0.   0.]\n",
      " [  0.   0.   0.   0.   0.   0.  49. 255. 255. 165.   0.   0.   0.   0.\n",
      "    0.   0.   0.   0.  64. 225. 100.   2.   0.   0.   0.   0.   0.   0.]\n",
      " [  0.   0.   0.   0.   0.   0.  74. 255. 255. 177.   0.   0.   0.   0.\n",
      "    0.   0.   1.  84. 232. 111.   1.   0.   0.   0.   0.   0.   0.   0.]\n",
      " [  0.   0.   0.   0.   0.   0.  81. 255. 255. 173.   0.   0.   0.   0.\n",
      "    0.   5. 129. 219.  50.   0.   0.   0.   0.   0.   0.   0.   0.   0.]\n",
      " [  0.   0.   0.   0.   0.   0.  55. 254. 255. 131.   0.   0.   0.   0.\n",
      "   20. 179. 195.  33.   0.   0.   0.   0.   0.   0.   0.   0.   0.   0.]\n",
      " [  0.   0.   0.   0.   0.   0.   6. 139. 152.  21.   0.   0.   0.  46.\n",
      "  205. 130.  13.   0.   0.   0.   0.   0.   0.   0.   0.   0.   0.   0.]]\n"
     ]
    }
   ],
   "source": [
    "X = np.load (\"data/X_images.npy\")\n",
    "Y = np.load (\"data/y_images.npy\")\n",
    "# X = X / 255\n",
    "# Y = Y / 255\n",
    "img1 = X[0].reshape(28 ,28)\n",
    "img2 = X[1].reshape(28 ,28)\n",
    "img3 = X[2].reshape(28 ,28)\n",
    "\n",
    "# Display the image\n",
    "plt.imshow(img1, cmap='gray')\n",
    "plt.axis('off')  # Hide axes\n",
    "plt.show()\n",
    "\n",
    "plt.imshow(img2, cmap='gray')\n",
    "plt.axis('off')  # Hide axes\n",
    "plt.show()\n",
    "\n",
    "plt.imshow(img3, cmap='gray')\n",
    "plt.axis('off')  # Hide axes\n",
    "plt.show()\n",
    "\n",
    "print(X.shape)\n",
    "print(X[0].reshape(28 ,28))"
   ]
  },
  {
   "cell_type": "markdown",
   "id": "1a8edf01",
   "metadata": {},
   "source": [
    "## Data Splitting"
   ]
  },
  {
   "cell_type": "code",
   "execution_count": null,
   "id": "8649f920",
   "metadata": {},
   "outputs": [
    {
     "name": "stdout",
     "output_type": "stream",
     "text": [
      "[[  0.   0.   0.   0.   0.   0.   0.   0.   5.   0.   0.   0.   0.   0.\n",
      "    0.   0.   0.   0.   0.   0.   0.   0.   0.   0.   0.   0.   0.   0.]\n",
      " [  0.   0.   0.   0.  54.  42.   0.   1.  28.   0.   0.   0.   0.   0.\n",
      "    0.   0.   0.   0.   0.  12.   0.   0.   0.   0.   0.   0.   0.   0.]\n",
      " [  0.   0.   0.   0. 177. 127.   0.   7.  41.   0.   0.   0.   0.   0.\n",
      "    0.   0.   0.   0.   2. 105.  11.   0.   0.   0.   0.   0.   0.   0.]\n",
      " [  0.   0.   0.  17. 222. 101.   0.   0.   0.   0.   0.   0.   0.   0.\n",
      "    0.   0.   0.   0.   0.   0.   0.   0.   0.   0.   0.   0.   0.   0.]\n",
      " [  0.   0.   0.  55. 247.  51.   0.   0.   0.   0.   0.   0.   0.   1.\n",
      "    0.   0.   0.   0.   0.   0.   0.   0.   0.   0.   0.   0.   0.   0.]\n",
      " [  0.   0.   0.  92. 239.  22.  11.   0.   0.   0.   0.   0.   0.  19.\n",
      "    4.   0.   0.   0.   0.   0.  26.  88.  68.  14.   0.   0.   0.   0.]\n",
      " [  0.   0.   0. 148. 235.  47.  21.   0.   0.   0.   0.   5.  16.  39.\n",
      "    5.   0.   0.   0.   2.  73. 216. 255. 252. 195.  47.   0.   0.   0.]\n",
      " [  0.   0.   0. 166. 228.  41.   0.   0.   0.   0.   6. 166. 227. 194.\n",
      "  123.  16.   0.  13. 153. 247. 253. 255. 255. 253. 203.  18.   0.   0.]\n",
      " [  0.   0.   2. 189. 205.  14.   0.   0.   0.   0.  78. 236. 173. 240.\n",
      "  252. 181.  66. 203. 253. 193.  94.  58.  60. 133. 253.  85.   0.   0.]\n",
      " [  0.   0.   2. 214. 174.   1.   0.   0.   0.   0. 147. 158.   4. 129.\n",
      "  255. 255. 255. 250. 131.   9.   0.   0.   0.  17. 235. 158.   0.   0.]\n",
      " [  0.   0.  23. 239. 210.   8.   0.   0.   0.   0. 127. 139.   0.  25.\n",
      "  207. 255. 234.  80.   3.   0.   0.   0.   0.  16. 232. 225.  15.   0.]\n",
      " [  0.   0.  76. 249. 224.   8.   0.   0.   0.   0.  50. 200.   4.   0.\n",
      "  127. 255. 221.   5.   0.   0.   0.   0.   0.  25. 234. 206.   0.   0.]\n",
      " [  0.   0. 114. 255. 201.   7.   0.   0.   0.   0.  13. 223.  45.  29.\n",
      "  185. 254. 192.   0.   0.   0.   0.   0.   0. 124. 255. 146.   0.   0.]\n",
      " [  0.   0. 118. 255. 217.  16.   0.   0.   0.   0.   0. 191. 213. 125.\n",
      "   59. 239. 210.   0.   0.   0.   0.   0.  13. 220. 255. 120.   0.   0.]\n",
      " [  0.   0. 112. 255. 201.  23.   6.   0.   0.  17.   4. 175. 190.  12.\n",
      "   10. 214. 226.   3.   0.   0.   0.   0.  91. 255. 226.  11.   0.   0.]\n",
      " [  0.   0.  72. 251. 208.  46.   1.   0.   0.   9.  55. 234.  94.   0.\n",
      "   42. 251. 215.   0.   0.   0.   0.  20. 206. 235. 148.   0.   0.   0.]\n",
      " [  0.   0.  40. 238. 216.  65.   0.   0.   0.   4. 181. 134.  47. 103.\n",
      "   72. 249. 181.   0.   0.   2.  85. 223. 244. 220.  36.   0.   0.   0.]\n",
      " [  0.   0.  10. 234. 246.  55.   0.   0.   5. 122. 238.  33.  40. 239.\n",
      "  245. 255. 223.  82.  62. 176. 242. 255. 233.  46.   0.   0.   0.   0.]\n",
      " [  0.   0.   2. 203. 236.  25.   0.   0. 125. 252. 148.   1.   2.  46.\n",
      "  245. 255. 255. 252. 250. 255. 255. 201.  45.   0.   0.   0.   0.   0.]\n",
      " [  0.   0.   0. 122. 247.  43.  23. 118. 250. 222.  29.   0.   0.  54.\n",
      "  254. 255. 253. 211. 211. 218. 118.   8.   0.   0.   0.   0.   0.   0.]\n",
      " [  0.   0.   0.  39. 234. 219. 215. 252. 246.  97.   1.   3.   0. 135.\n",
      "  255. 255. 157.   1.   1.   3.   0.   0.   0.   0.   0.   0.   0.   0.]\n",
      " [  0.   0.   0.   5. 191. 255. 255. 253. 115.   3.   0.   1.   1. 179.\n",
      "  255. 200.  14.   0.   0.   0.   0.   0.   0.   0.   0.   0.   0.   0.]\n",
      " [  0.   0.   0.   0.  63. 247. 246. 148.  19.   4.   6.   0.  56. 249.\n",
      "  231.  45.   0.   0.   0.   0.   0.   0.   0.   0.   0.   0.   0.   0.]\n",
      " [  0.   0.   0.   0.   2.  56.  39.   1.   1.   3.   1.   6. 165. 247.\n",
      "   96.   0.   0.   0.   0.   0.   0.   0.   0.   0.   0.   0.   0.   0.]\n",
      " [  0.   0.   0.   0.   0.   0.   0.   0.  36.  64.   6.  98. 249. 127.\n",
      "    2.   0.   0.   0.   0.   0.   0.   0.   0.   0.   0.   0.   0.   0.]\n",
      " [  0.   0.   0.   0.   0.   0.   0.   0.  13.  87.  83. 236. 124.   7.\n",
      "    0.   0.   0.   0.   0.   0.   0.   0.   0.   0.   0.   0.   0.   0.]\n",
      " [  0.   0.   0.   0.   0.   0.   0.   0.   1. 120. 234. 125.   0.   0.\n",
      "    0.   0.   0.   0.   0.   0.   0.   0.   0.   0.   0.   0.   0.   0.]\n",
      " [  0.   0.   0.   0.   0.   0.   0.  11. 170. 223.  73.   2.   0.   0.\n",
      "    0.   0.   0.   0.   0.   0.   0.   0.   0.   0.   0.   0.   0.   0.]]\n"
     ]
    }
   ],
   "source": [
    "X_norm = X / 255\n",
    "Y_norm = Y / 255\n",
    "X_train, Y_train, X_val, Y_val, X_test, Y_test = train_val_test_split(X,Y)\n",
    "print(X_train[0].reshape(28 ,28))"
   ]
  }
 ],
 "metadata": {
  "kernelspec": {
   "display_name": "Python 3",
   "language": "python",
   "name": "python3"
  },
  "language_info": {
   "codemirror_mode": {
    "name": "ipython",
    "version": 3
   },
   "file_extension": ".py",
   "mimetype": "text/x-python",
   "name": "python",
   "nbconvert_exporter": "python",
   "pygments_lexer": "ipython3",
   "version": "3.10.11"
  }
 },
 "nbformat": 4,
 "nbformat_minor": 5
}
